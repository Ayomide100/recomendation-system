{
 "cells": [
  {
   "cell_type": "code",
   "execution_count": 2,
   "id": "6ebc4eb8",
   "metadata": {},
   "outputs": [],
   "source": [
    "import sqlite3 as sq"
   ]
  },
  {
   "cell_type": "markdown",
   "id": "aed0aff8",
   "metadata": {},
   "source": [
    "### Connecting to database"
   ]
  },
  {
   "cell_type": "code",
   "execution_count": 3,
   "id": "85bb8296",
   "metadata": {},
   "outputs": [
    {
     "name": "stdout",
     "output_type": "stream",
     "text": [
      "database connected successfully\n"
     ]
    }
   ],
   "source": [
    "con = sq.connect('database.db')\n",
    "print(\"database connected successfully\")"
   ]
  },
  {
   "cell_type": "code",
   "execution_count": 4,
   "id": "48b7c6db",
   "metadata": {},
   "outputs": [
    {
     "data": {
      "text/plain": [
       "<sqlite3.Connection at 0x253e60c95d0>"
      ]
     },
     "execution_count": 4,
     "metadata": {},
     "output_type": "execute_result"
    }
   ],
   "source": [
    "con"
   ]
  },
  {
   "cell_type": "markdown",
   "id": "be31c3c5",
   "metadata": {},
   "source": [
    "### Create a table"
   ]
  },
  {
   "cell_type": "code",
   "execution_count": 11,
   "id": "123d88a4",
   "metadata": {},
   "outputs": [
    {
     "name": "stdout",
     "output_type": "stream",
     "text": [
      "Table product has been created\n"
     ]
    }
   ],
   "source": [
    "con.execute('''CREATE TABLE PRODUCT\n",
    "                (\n",
    "                    ID INT PRIMARY KEY NOT NULL,\n",
    "                    NAME  TEXT NOT NULL,\n",
    "                    PRICE INT NOT NULL,\n",
    "                    BRAND TEXT NOT NULL,\n",
    "                    COLOR TEXT NOT NULL\n",
    "                );\n",
    "                ''')\n",
    "print('Table product has been created')"
   ]
  },
  {
   "cell_type": "markdown",
   "id": "764ac1f5",
   "metadata": {},
   "source": [
    "### INSERT OPERATION"
   ]
  },
  {
   "cell_type": "code",
   "execution_count": 17,
   "id": "7229b36d",
   "metadata": {},
   "outputs": [
    {
     "data": {
      "text/plain": [
       "<sqlite3.Cursor at 0x253e669afc0>"
      ]
     },
     "execution_count": 17,
     "metadata": {},
     "output_type": "execute_result"
    }
   ],
   "source": [
    "con.execute(\"INSERT INTO PRODUCT (ID, NAME, PRICE, BRAND, COLOR) \\\n",
    "           VALUES (1,'jersey', 4500, 'gucci',  'blue')\")"
   ]
  },
  {
   "cell_type": "code",
   "execution_count": 19,
   "id": "ae6cd9cb",
   "metadata": {},
   "outputs": [
    {
     "data": {
      "text/plain": [
       "<sqlite3.Cursor at 0x253e63208c0>"
      ]
     },
     "execution_count": 19,
     "metadata": {},
     "output_type": "execute_result"
    }
   ],
   "source": [
    "con.execute(\"INSERT INTO PRODUCT (ID, NAME, PRICE, BRAND, COLOR) \\\n",
    "           VALUES (2,'boot', 25000, 'nike',  'yellow')\")\n",
    "con.execute(\"INSERT INTO PRODUCT (ID, NAME, PRICE, BRAND, COLOR) \\\n",
    "           VALUES (3,'laptop', 150000, 'hp',  'black')\")\n",
    "con.execute(\"INSERT INTO PRODUCT (ID, NAME, PRICE, BRAND, COLOR) \\\n",
    "           VALUES (4,'keyboard', 13400, 'razer',  'grey')\")\n",
    "con.execute(\"INSERT INTO PRODUCT (ID, NAME, PRICE, BRAND, COLOR) \\\n",
    "           VALUES (5,'bag', 80000, 'louiz vuitton',  'brown')\")"
   ]
  },
  {
   "cell_type": "code",
   "execution_count": 20,
   "id": "f73516e8",
   "metadata": {},
   "outputs": [
    {
     "name": "stdout",
     "output_type": "stream",
     "text": [
      "product successfully saved\n"
     ]
    }
   ],
   "source": [
    "con.commit()\n",
    "print ('product successfully saved')"
   ]
  },
  {
   "cell_type": "markdown",
   "id": "766752f4",
   "metadata": {},
   "source": [
    "### READ OPERATION"
   ]
  },
  {
   "cell_type": "code",
   "execution_count": 26,
   "id": "57781a75",
   "metadata": {},
   "outputs": [
    {
     "data": {
      "text/plain": [
       "[(1, 'jersey', 4500, 'gucci', 'blue'),\n",
       " (2, 'boot', 25000, 'nike', 'yellow'),\n",
       " (3, 'laptop', 150000, 'hp', 'black'),\n",
       " (4, 'keyboard', 13400, 'razer', 'grey'),\n",
       " (5, 'bag', 80000, 'louiz vuitton', 'brown')]"
      ]
     },
     "execution_count": 26,
     "metadata": {},
     "output_type": "execute_result"
    }
   ],
   "source": [
    "allRecords = con.execute(\"SELECT ID, NAME, PRICE, BRAND, COLOR FROM PRODUCT\").fetchall()\n",
    "allRecords"
   ]
  },
  {
   "cell_type": "code",
   "execution_count": 28,
   "id": "454f11d9",
   "metadata": {},
   "outputs": [
    {
     "data": {
      "text/plain": [
       "[(1, 'jersey', 4500, 'gucci', 'blue'),\n",
       " (2, 'boot', 25000, 'nike', 'yellow'),\n",
       " (3, 'laptop', 150000, 'hp', 'black'),\n",
       " (4, 'keyboard', 13400, 'razer', 'grey'),\n",
       " (5, 'bag', 80000, 'louiz vuitton', 'brown')]"
      ]
     },
     "execution_count": 28,
     "metadata": {},
     "output_type": "execute_result"
    }
   ],
   "source": [
    "allRecords = con.execute(\"SELECT * FROM PRODUCT\").fetchall()\n",
    "allRecords"
   ]
  },
  {
   "cell_type": "code",
   "execution_count": 30,
   "id": "497431f6",
   "metadata": {},
   "outputs": [
    {
     "data": {
      "text/plain": [
       "[(5, 'bag', 80000, 'louiz vuitton', 'brown')]"
      ]
     },
     "execution_count": 30,
     "metadata": {},
     "output_type": "execute_result"
    }
   ],
   "source": [
    "# read where product brand is louis vuiiton\n",
    "con.execute(\"SELECT * FROM PRODUCT where BRAND = 'louiz vuitton'\").fetchall()"
   ]
  },
  {
   "cell_type": "code",
   "execution_count": 34,
   "id": "d9b1a829",
   "metadata": {},
   "outputs": [
    {
     "data": {
      "text/plain": [
       "[(3, 'laptop', 150000, 'hp', 'black'),\n",
       " (5, 'bag', 80000, 'louiz vuitton', 'brown')]"
      ]
     },
     "execution_count": 34,
     "metadata": {},
     "output_type": "execute_result"
    }
   ],
   "source": [
    "# read where product brand is louis vuiiton\n",
    "con.execute(\"SELECT * FROM PRODUCT where PRICE > 50000\").fetchall()"
   ]
  },
  {
   "cell_type": "markdown",
   "id": "53ef0f8b",
   "metadata": {},
   "source": [
    "### Update operation"
   ]
  },
  {
   "cell_type": "code",
   "execution_count": 36,
   "id": "5047e01f",
   "metadata": {},
   "outputs": [
    {
     "name": "stdout",
     "output_type": "stream",
     "text": [
      "updated hp price from 150000 to 250000\n"
     ]
    }
   ],
   "source": [
    "con.execute(\"UPDATE PRODUCT set PRICE = 250000 where id = 3\")\n",
    "con.commit()\n",
    "print(\"updated hp price from 150000 to 250000\")"
   ]
  },
  {
   "cell_type": "code",
   "execution_count": 37,
   "id": "c3517127",
   "metadata": {},
   "outputs": [
    {
     "data": {
      "text/plain": [
       "[(1, 'jersey', 4500, 'gucci', 'blue'),\n",
       " (2, 'boot', 25000, 'nike', 'yellow'),\n",
       " (3, 'laptop', 250000, 'hp', 'black'),\n",
       " (4, 'keyboard', 13400, 'razer', 'grey'),\n",
       " (5, 'bag', 80000, 'louiz vuitton', 'brown')]"
      ]
     },
     "execution_count": 37,
     "metadata": {},
     "output_type": "execute_result"
    }
   ],
   "source": [
    "con.execute(\"SELECT * FROM PRODUCT\").fetchall()"
   ]
  },
  {
   "cell_type": "markdown",
   "id": "c53a1ee8",
   "metadata": {},
   "source": [
    "### delete operation"
   ]
  },
  {
   "cell_type": "code",
   "execution_count": 39,
   "id": "8a7de21c",
   "metadata": {},
   "outputs": [],
   "source": [
    "# delete where id =2 record\n",
    "con.execute(\"DELETE from PRODUCT where id = 2\")\n",
    "con.commit()"
   ]
  },
  {
   "cell_type": "code",
   "execution_count": 40,
   "id": "da8f1084",
   "metadata": {},
   "outputs": [
    {
     "data": {
      "text/plain": [
       "[(1, 'jersey', 4500, 'gucci', 'blue'),\n",
       " (3, 'laptop', 250000, 'hp', 'black'),\n",
       " (4, 'keyboard', 13400, 'razer', 'grey'),\n",
       " (5, 'bag', 80000, 'louiz vuitton', 'brown')]"
      ]
     },
     "execution_count": 40,
     "metadata": {},
     "output_type": "execute_result"
    }
   ],
   "source": [
    "con.execute(\"SELECT * FROM PRODUCT\").fetchall()"
   ]
  },
  {
   "cell_type": "code",
   "execution_count": null,
   "id": "de7d12b0",
   "metadata": {},
   "outputs": [],
   "source": []
  }
 ],
 "metadata": {
  "kernelspec": {
   "display_name": "Python 3 (ipykernel)",
   "language": "python",
   "name": "python3"
  },
  "language_info": {
   "codemirror_mode": {
    "name": "ipython",
    "version": 3
   },
   "file_extension": ".py",
   "mimetype": "text/x-python",
   "name": "python",
   "nbconvert_exporter": "python",
   "pygments_lexer": "ipython3",
   "version": "3.11.1"
  }
 },
 "nbformat": 4,
 "nbformat_minor": 5
}
